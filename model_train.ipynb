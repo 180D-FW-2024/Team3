{
 "cells": [
  {
   "cell_type": "code",
   "execution_count": 1,
   "metadata": {},
   "outputs": [],
   "source": [
    "import cv2\n",
    "import numpy as np\n",
    "import tensorflow as tf"
   ]
  },
  {
   "cell_type": "code",
   "execution_count": 2,
   "metadata": {},
   "outputs": [
    {
     "name": "stdout",
     "output_type": "stream",
     "text": [
      "Found 3115 files belonging to 36 classes.\n",
      "Found 351 files belonging to 36 classes.\n"
     ]
    }
   ],
   "source": [
    "training_data = tf.keras.utils.image_dataset_from_directory(\"./train_set\",\n",
    "                                                            labels = 'inferred',\n",
    "                                                            label_mode = 'categorical',\n",
    "                                                            class_names = None,\n",
    "                                                            color_mode = 'rgb',\n",
    "                                                            batch_size =32,\n",
    "                                                            image_size = (64,64),\n",
    "                                                            shuffle = True,\n",
    "                                                            seed = None,\n",
    "                                                            validation_split = None, \n",
    "                                                            interpolation = 'bilinear',\n",
    "                                                            follow_links = False,\n",
    "                                                            crop_to_aspect_ratio = False\n",
    "                                                            ) # change for when on RPi\n",
    "\n",
    "\n",
    "validation_set = tf.keras.utils.image_dataset_from_directory(\"./validation_set\",\n",
    "                                                            labels = 'inferred',\n",
    "                                                            label_mode = 'categorical',\n",
    "                                                            class_names = None,\n",
    "                                                            color_mode = 'rgb',\n",
    "                                                            batch_size =32,\n",
    "                                                            image_size = (64,64),\n",
    "                                                            shuffle = True,\n",
    "                                                            seed = None,\n",
    "                                                            validation_split = None, \n",
    "                                                            interpolation = 'bilinear',\n",
    "                                                            follow_links = False,\n",
    "                                                            crop_to_aspect_ratio = False\n",
    "                                                            )"
   ]
  },
  {
   "cell_type": "code",
   "execution_count": 33,
   "metadata": {},
   "outputs": [
    {
     "name": "stderr",
     "output_type": "stream",
     "text": [
      "c:\\Users\\drago\\anaconda3\\envs\\yourenvname\\Lib\\site-packages\\keras\\src\\layers\\convolutional\\base_conv.py:107: UserWarning: Do not pass an `input_shape`/`input_dim` argument to a layer. When using Sequential models, prefer using an `Input(shape)` object as the first layer in the model instead.\n",
      "  super().__init__(activity_regularizer=activity_regularizer, **kwargs)\n"
     ]
    }
   ],
   "source": [
    "cnn = tf.keras.models.Sequential()\n",
    "cnn.add(tf.keras.layers.Conv2D(filters = 64, kernel_size=3, padding = 'same',activation = 'relu', input_shape = [64,64,3]))\n",
    "cnn.add(tf.keras.layers.Conv2D(filters = 64, kernel_size=3, activation = 'relu'))\n",
    "cnn.add(tf.keras.layers.MaxPool2D (pool_size=2, strides=2))\n",
    "cnn.add(tf.keras.layers.Dropout(0.25))\n",
    "# might wnat to do this part twice to reduce size '\n",
    "cnn.add(tf.keras.layers.Conv2D(filters = 64, kernel_size=3, padding = 'same',activation = 'relu', input_shape = [64,64,3]))\n",
    "cnn.add(tf.keras.layers.Conv2D(filters = 64, kernel_size=3, activation = 'relu'))\n",
    "cnn.add(tf.keras.layers.MaxPool2D (pool_size=2, strides=2))\n",
    "cnn.add(tf.keras.layers.Dropout(0.25))\n",
    "cnn.add(tf.keras.layers.Flatten())\n",
    "cnn.add(tf.keras.layers.Dense(units = 512, activation = 'relu'))\n",
    "cnn.add(tf.keras.layers.Dense(units = 256, activation = 'relu'))\n",
    "cnn.add(tf.keras.layers.Dropout(0.5))\n",
    "\n",
    "\n",
    "\n",
    "cnn.add(tf.keras.layers.Dense(units = 36, activation = 'softmax'))\n",
    "\n",
    "cnn.compile(optimizer= 'rmsprop', loss = 'categorical_crossentropy', metrics = ['accuracy'])"
   ]
  },
  {
   "cell_type": "code",
   "execution_count": null,
   "metadata": {},
   "outputs": [],
   "source": [
    "training_history = cnn.fit(x= training_data, validation_data= validation_set, epochs = 30)"
   ]
  },
  {
   "cell_type": "code",
   "execution_count": null,
   "metadata": {},
   "outputs": [],
   "source": [
    "def train_model():\n",
    "    training_data = tf.keras.utils.image_dataset_from_directory(\n",
    "        'C:\\Users\\drago\\OneDrive\\Desktop\\180\\180-FinalProject\\Team3\\test (1)',\n",
    "        label_mode=\"categorical\",\n",
    "        color_mode = \"rgb\",\n",
    "        batch_size = 32,\n",
    "        image_size = (64,64),\n",
    "        shuffle = \"on\",\n",
    "        interpolation=\"bilinear\"\n",
    "        ) #change for pi\n"
   ]
  },
  {
   "cell_type": "code",
   "execution_count": null,
   "metadata": {},
   "outputs": [],
   "source": [
    "\n",
    "if __name__ == '__main__':\n",
    "    train_model()\n",
    "    #img = cv2.VideoCapture(0)"
   ]
  },
  {
   "cell_type": "code",
   "execution_count": null,
   "metadata": {},
   "outputs": [],
   "source": []
  }
 ],
 "metadata": {
  "kernelspec": {
   "display_name": "yourenvname",
   "language": "python",
   "name": "python3"
  },
  "language_info": {
   "codemirror_mode": {
    "name": "ipython",
    "version": 3
   },
   "file_extension": ".py",
   "mimetype": "text/x-python",
   "name": "python",
   "nbconvert_exporter": "python",
   "pygments_lexer": "ipython3",
   "version": "3.12.5"
  }
 },
 "nbformat": 4,
 "nbformat_minor": 2
}
